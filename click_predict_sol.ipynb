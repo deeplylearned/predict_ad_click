{
 "cells": [
  {
   "cell_type": "code",
   "execution_count": 1,
   "metadata": {
    "collapsed": true
   },
   "outputs": [],
   "source": [
    "import pandas as pd\n",
    "import numpy as np\n",
    "from scipy import stats\n",
    "import datetime\n",
    "from sklearn.externals import joblib\n",
    "#from bokeh.io import output_notebook, show\n",
    "#from bokeh.plotting import figure\n",
    "#output_notebook() # call only once"
   ]
  },
  {
   "cell_type": "code",
   "execution_count": 2,
   "metadata": {
    "collapsed": true
   },
   "outputs": [],
   "source": [
    "train = pd.read_csv(\"train.csv\")\n",
    "test = pd.read_csv(\"test.csv\")"
   ]
  },
  {
   "cell_type": "markdown",
   "metadata": {},
   "source": [
    "## Analyze the data"
   ]
  },
  {
   "cell_type": "code",
   "execution_count": 3,
   "metadata": {},
   "outputs": [
    {
     "name": "stdout",
     "output_type": "stream",
     "text": [
      "In train set, No of rows are 12137810 and columns are 10\n",
      "In test set, No of rows are 3706907 and columns are 9\n",
      "Data types : ID              object\n",
      "datetime        object\n",
      "siteid         float64\n",
      "offerid          int64\n",
      "category         int64\n",
      "merchant         int64\n",
      "countrycode     object\n",
      "browserid       object\n",
      "devid           object\n",
      "click            int64\n",
      "dtype: object\n"
     ]
    }
   ],
   "source": [
    "print(\"In train set, No of rows are {} and columns are {}\".format(train.shape[0], train.shape[1]))\n",
    "print(\"In test set, No of rows are {} and columns are {}\".format(test.shape[0], test.shape[1]))\n",
    "print(\"Data types :\", train.dtypes)"
   ]
  },
  {
   "cell_type": "code",
   "execution_count": 4,
   "metadata": {
    "collapsed": true
   },
   "outputs": [],
   "source": [
    "# Parse datetime\n",
    "# Rounding to hour to group time into large intervals\n",
    "train['datetime'] = pd.to_datetime(train['datetime'], format=\"%Y-%m-%d %H:%M:%S\").dt.round('60min') # check how this freqency works\n",
    "# Since data is only for 10 days year month and day doesn't matter really \n",
    "# And min and sec are already rounded off\n",
    "train['weekday'], train['hour'] = train['datetime'].dt.weekday, train['datetime'].dt.hour\n",
    "train = train.drop('datetime', 1)"
   ]
  },
  {
   "cell_type": "code",
   "execution_count": 5,
   "metadata": {
    "collapsed": true
   },
   "outputs": [],
   "source": [
    "# Parse datetime\n",
    "# Rounding to hour to group time into large intervals\n",
    "test['datetime'] = pd.to_datetime(test['datetime'], format=\"%Y-%m-%d %H:%M:%S\").dt.round('60min') # check how this freqency works\n",
    "# Since data is only for 10 days year month and day doesn't matter really \n",
    "# And min and sec are already rounded off\n",
    "test['weekday'], test['hour'] = test['datetime'].dt.weekday, test['datetime'].dt.hour\n",
    "test = test.drop('datetime', 1)"
   ]
  },
  {
   "cell_type": "code",
   "execution_count": 6,
   "metadata": {},
   "outputs": [
    {
     "data": {
      "text/html": [
       "<div>\n",
       "<style>\n",
       "    .dataframe thead tr:only-child th {\n",
       "        text-align: right;\n",
       "    }\n",
       "\n",
       "    .dataframe thead th {\n",
       "        text-align: left;\n",
       "    }\n",
       "\n",
       "    .dataframe tbody tr th {\n",
       "        vertical-align: top;\n",
       "    }\n",
       "</style>\n",
       "<table border=\"1\" class=\"dataframe\">\n",
       "  <thead>\n",
       "    <tr style=\"text-align: right;\">\n",
       "      <th></th>\n",
       "      <th>ID</th>\n",
       "      <th>siteid</th>\n",
       "      <th>offerid</th>\n",
       "      <th>category</th>\n",
       "      <th>merchant</th>\n",
       "      <th>countrycode</th>\n",
       "      <th>browserid</th>\n",
       "      <th>devid</th>\n",
       "      <th>click</th>\n",
       "      <th>weekday</th>\n",
       "      <th>hour</th>\n",
       "    </tr>\n",
       "  </thead>\n",
       "  <tbody>\n",
       "    <tr>\n",
       "      <th>0</th>\n",
       "      <td>IDsrk7SoW</td>\n",
       "      <td>4709696.0</td>\n",
       "      <td>887235</td>\n",
       "      <td>17714</td>\n",
       "      <td>20301556</td>\n",
       "      <td>e</td>\n",
       "      <td>Firefox</td>\n",
       "      <td>NaN</td>\n",
       "      <td>0</td>\n",
       "      <td>5</td>\n",
       "      <td>10</td>\n",
       "    </tr>\n",
       "    <tr>\n",
       "      <th>1</th>\n",
       "      <td>IDmMSxHur</td>\n",
       "      <td>5189467.0</td>\n",
       "      <td>178235</td>\n",
       "      <td>21407</td>\n",
       "      <td>9434818</td>\n",
       "      <td>b</td>\n",
       "      <td>Mozilla Firefox</td>\n",
       "      <td>Desktop</td>\n",
       "      <td>0</td>\n",
       "      <td>2</td>\n",
       "      <td>18</td>\n",
       "    </tr>\n",
       "    <tr>\n",
       "      <th>2</th>\n",
       "      <td>IDVLNN0Ut</td>\n",
       "      <td>98480.0</td>\n",
       "      <td>518539</td>\n",
       "      <td>25085</td>\n",
       "      <td>2050923</td>\n",
       "      <td>a</td>\n",
       "      <td>Edge</td>\n",
       "      <td>NaN</td>\n",
       "      <td>0</td>\n",
       "      <td>2</td>\n",
       "      <td>13</td>\n",
       "    </tr>\n",
       "    <tr>\n",
       "      <th>3</th>\n",
       "      <td>ID32T6wwQ</td>\n",
       "      <td>8896401.0</td>\n",
       "      <td>390352</td>\n",
       "      <td>40339</td>\n",
       "      <td>72089744</td>\n",
       "      <td>c</td>\n",
       "      <td>Firefox</td>\n",
       "      <td>Mobile</td>\n",
       "      <td>0</td>\n",
       "      <td>1</td>\n",
       "      <td>10</td>\n",
       "    </tr>\n",
       "    <tr>\n",
       "      <th>4</th>\n",
       "      <td>IDqUShzMg</td>\n",
       "      <td>5635120.0</td>\n",
       "      <td>472937</td>\n",
       "      <td>12052</td>\n",
       "      <td>39507200</td>\n",
       "      <td>d</td>\n",
       "      <td>Mozilla Firefox</td>\n",
       "      <td>Desktop</td>\n",
       "      <td>0</td>\n",
       "      <td>5</td>\n",
       "      <td>16</td>\n",
       "    </tr>\n",
       "  </tbody>\n",
       "</table>\n",
       "</div>"
      ],
      "text/plain": [
       "          ID     siteid  offerid  category  merchant countrycode  \\\n",
       "0  IDsrk7SoW  4709696.0   887235     17714  20301556           e   \n",
       "1  IDmMSxHur  5189467.0   178235     21407   9434818           b   \n",
       "2  IDVLNN0Ut    98480.0   518539     25085   2050923           a   \n",
       "3  ID32T6wwQ  8896401.0   390352     40339  72089744           c   \n",
       "4  IDqUShzMg  5635120.0   472937     12052  39507200           d   \n",
       "\n",
       "         browserid    devid  click  weekday  hour  \n",
       "0          Firefox      NaN      0        5    10  \n",
       "1  Mozilla Firefox  Desktop      0        2    18  \n",
       "2             Edge      NaN      0        2    13  \n",
       "3          Firefox   Mobile      0        1    10  \n",
       "4  Mozilla Firefox  Desktop      0        5    16  "
      ]
     },
     "execution_count": 6,
     "metadata": {},
     "output_type": "execute_result"
    }
   ],
   "source": [
    "train.head()"
   ]
  },
  {
   "cell_type": "code",
   "execution_count": 7,
   "metadata": {
    "collapsed": true
   },
   "outputs": [],
   "source": [
    "mod_siteid = -1 #mode(train, 'siteid')\n",
    "mod_browserid = 'unknown' #mode(train, 'browserid')\n",
    "mod_devid = 'unknown'#mode(train, 'devid')"
   ]
  },
  {
   "cell_type": "code",
   "execution_count": 8,
   "metadata": {
    "collapsed": true
   },
   "outputs": [],
   "source": [
    "## impute categoricsl values with mode and encode cat date\n",
    "train.loc[train['siteid'].isnull(), 'siteid'] = mod_siteid\n",
    "train.loc[train['browserid'].isnull(), 'browserid'] = mod_browserid\n",
    "train.loc[train['devid'].isnull(), 'devid'] = mod_devid"
   ]
  },
  {
   "cell_type": "code",
   "execution_count": 9,
   "metadata": {
    "collapsed": true
   },
   "outputs": [],
   "source": [
    "## impute categoricsl values with mode and encode cat date\n",
    "test.loc[test['siteid'].isnull(), 'siteid'] = mod_siteid\n",
    "test.loc[test['browserid'].isnull(), 'browserid'] = mod_browserid\n",
    "test.loc[test['devid'].isnull(), 'devid'] = mod_devid"
   ]
  },
  {
   "cell_type": "markdown",
   "metadata": {},
   "source": [
    "### Convert to right datatype"
   ]
  },
  {
   "cell_type": "code",
   "execution_count": 10,
   "metadata": {
    "collapsed": true
   },
   "outputs": [],
   "source": [
    "train = train.drop('ID', 1)\n",
    "#train['siteid'] = train['siteid'].astype('category')\n",
    "#train['offerid'] = train['offerid'].astype('category')\n",
    "#train['category'] = train['category'].astype('category')\n",
    "#train['merchant'] = train['merchant'].astype('category')\n",
    "#train['countrycode'] = train['countrycode'].astype('category')\n",
    "#train['browserid'] = train['browserid'].astype('category')\n",
    "#train['devid'] = train['devid'].astype('category')\n",
    "#train['click'] = train['click'].astype('category')\n",
    "#train['weekday'] = train['weekday'].astype('category')"
   ]
  },
  {
   "cell_type": "code",
   "execution_count": 11,
   "metadata": {
    "collapsed": true
   },
   "outputs": [],
   "source": [
    "test_id = test['ID']\n",
    "test = test.drop('ID', 1)\n",
    "#test['siteid'] = test['siteid'].astype('category')\n",
    "#test['offerid'] = test['offerid'].astype('category')\n",
    "#test['category'] = test['category'].astype('category')\n",
    "#test['merchant'] = test['merchant'].astype('category')\n",
    "#test['countrycode'] = test['countrycode'].astype('category')\n",
    "#test['browserid'] = test['browserid'].astype('category')\n",
    "#test['devid'] = test['devid'].astype('category')\n",
    "#test['weekday'] = test['weekday'].astype('category')"
   ]
  },
  {
   "cell_type": "code",
   "execution_count": 12,
   "metadata": {
    "collapsed": true
   },
   "outputs": [],
   "source": [
    "#print(train.columns[train.isnull().any()])\n",
    "#print(train.isnull().sum())\n",
    "#print(test.columns[test.isnull().any()])\n",
    "#print(test.isnull().sum())"
   ]
  },
  {
   "cell_type": "code",
   "execution_count": 13,
   "metadata": {
    "collapsed": true
   },
   "outputs": [],
   "source": [
    "from sklearn.preprocessing import LabelEncoder\n",
    "le = LabelEncoder()"
   ]
  },
  {
   "cell_type": "code",
   "execution_count": 14,
   "metadata": {},
   "outputs": [
    {
     "name": "stdout",
     "output_type": "stream",
     "text": [
      "Shape of train set is (12137810, 10) and test set is (3706907, 9)\n",
      "Shape of all data is (15844717, 10)\n"
     ]
    }
   ],
   "source": [
    "print(\"Shape of train set is {} and test set is {}\".format(train.shape, test.shape))\n",
    "test['click'] = -1\n",
    "train = train.append(test)\n",
    "del test\n",
    "print(\"Shape of all data is {}\".format(train.shape))"
   ]
  },
  {
   "cell_type": "code",
   "execution_count": 15,
   "metadata": {
    "collapsed": true
   },
   "outputs": [],
   "source": [
    "le.fit(train['siteid'])\n",
    "train['siteid'] = le.transform(train['siteid'])\n",
    "le.fit(train['offerid'])\n",
    "train['offerid'] = le.transform(train['offerid'])\n",
    "le.fit(train['category'])\n",
    "train['category'] = le.transform(train['category'])\n",
    "le.fit(train['merchant'])\n",
    "train['merchant'] = le.transform(train['merchant'])\n",
    "le.fit(train['countrycode'])\n",
    "train['countrycode'] = le.transform(train['countrycode'])\n",
    "le.fit(train['browserid'])\n",
    "train['browserid'] = le.transform(train['browserid'])\n",
    "le.fit(train['devid'])\n",
    "train['devid'] = le.transform(train['devid'])\n",
    "le.fit(train['weekday'])\n",
    "train['weekday'] = le.transform(train['weekday'])"
   ]
  },
  {
   "cell_type": "code",
   "execution_count": 16,
   "metadata": {},
   "outputs": [
    {
     "name": "stdout",
     "output_type": "stream",
     "text": [
      "No of unique siteid :273596\n",
      "No of unique offerid :884353\n",
      "No of unique category :271\n",
      "No of unique merchant :703\n",
      "No of unique countrycode :6\n",
      "No of unique browserid :12\n",
      "No of unique devid :4\n",
      "No of unique weekday :7\n"
     ]
    }
   ],
   "source": [
    "print(\"No of unique siteid :{}\".format(len(train['siteid'].unique())))\n",
    "print(\"No of unique offerid :{}\".format(len(train['offerid'].unique())))\n",
    "print(\"No of unique category :{}\".format(len(train['category'].unique())))\n",
    "print(\"No of unique merchant :{}\".format(len(train['merchant'].unique())))\n",
    "print(\"No of unique countrycode :{}\".format(len(train['countrycode'].unique())))\n",
    "print(\"No of unique browserid :{}\".format(len(train['browserid'].unique())))\n",
    "print(\"No of unique devid :{}\".format(len(train['devid'].unique())))\n",
    "print(\"No of unique weekday :{}\".format(len(train['weekday'].unique())))"
   ]
  },
  {
   "cell_type": "code",
   "execution_count": null,
   "metadata": {
    "collapsed": true
   },
   "outputs": [],
   "source": [
    "# bin / group category\n"
   ]
  },
  {
   "cell_type": "code",
   "execution_count": 17,
   "metadata": {
    "collapsed": true
   },
   "outputs": [],
   "source": [
    "# creating dummis for categorical data\n",
    "\n",
    "#siteid = pd.get_dummies(train['siteid'])\n",
    "#offerid = pd.get_dummies(train['offerid'])\n",
    "#merchant = pd.get_dummies(train['merchant'])\n",
    "#train.drop('merchant', 1)\n",
    "#category = pd.get_dummies(train['category'])\n",
    "#train = train.drop('category', 1)\n",
    "devid = pd.get_dummies(train['devid'])\n",
    "train = train.drop('devid', 1)\n",
    "weekday = pd.get_dummies(train['weekday'])\n",
    "train = train.drop('weekday', 1)\n",
    "countrycode = pd.get_dummies(train['countrycode'])\n",
    "train = train.drop('countrycode', 1)\n",
    "browserid = pd.get_dummies(train['browserid'])\n",
    "train = train.drop('browserid', 1)"
   ]
  },
  {
   "cell_type": "code",
   "execution_count": 18,
   "metadata": {},
   "outputs": [
    {
     "data": {
      "text/html": [
       "<div>\n",
       "<style>\n",
       "    .dataframe thead tr:only-child th {\n",
       "        text-align: right;\n",
       "    }\n",
       "\n",
       "    .dataframe thead th {\n",
       "        text-align: left;\n",
       "    }\n",
       "\n",
       "    .dataframe tbody tr th {\n",
       "        vertical-align: top;\n",
       "    }\n",
       "</style>\n",
       "<table border=\"1\" class=\"dataframe\">\n",
       "  <thead>\n",
       "    <tr style=\"text-align: right;\">\n",
       "      <th></th>\n",
       "      <th>0</th>\n",
       "      <th>1</th>\n",
       "      <th>2</th>\n",
       "      <th>3</th>\n",
       "      <th>4</th>\n",
       "      <th>5</th>\n",
       "      <th>6</th>\n",
       "      <th>7</th>\n",
       "      <th>8</th>\n",
       "      <th>9</th>\n",
       "      <th>...</th>\n",
       "      <th>2</th>\n",
       "      <th>3</th>\n",
       "      <th>0</th>\n",
       "      <th>1</th>\n",
       "      <th>2</th>\n",
       "      <th>3</th>\n",
       "      <th>4</th>\n",
       "      <th>5</th>\n",
       "      <th>6</th>\n",
       "      <th>hour</th>\n",
       "    </tr>\n",
       "  </thead>\n",
       "  <tbody>\n",
       "    <tr>\n",
       "      <th>0</th>\n",
       "      <td>0</td>\n",
       "      <td>0</td>\n",
       "      <td>1</td>\n",
       "      <td>0</td>\n",
       "      <td>0</td>\n",
       "      <td>0</td>\n",
       "      <td>0</td>\n",
       "      <td>0</td>\n",
       "      <td>0</td>\n",
       "      <td>0</td>\n",
       "      <td>...</td>\n",
       "      <td>0</td>\n",
       "      <td>1</td>\n",
       "      <td>0</td>\n",
       "      <td>0</td>\n",
       "      <td>0</td>\n",
       "      <td>0</td>\n",
       "      <td>0</td>\n",
       "      <td>1</td>\n",
       "      <td>0</td>\n",
       "      <td>10</td>\n",
       "    </tr>\n",
       "    <tr>\n",
       "      <th>1</th>\n",
       "      <td>0</td>\n",
       "      <td>0</td>\n",
       "      <td>0</td>\n",
       "      <td>0</td>\n",
       "      <td>0</td>\n",
       "      <td>0</td>\n",
       "      <td>0</td>\n",
       "      <td>0</td>\n",
       "      <td>1</td>\n",
       "      <td>0</td>\n",
       "      <td>...</td>\n",
       "      <td>0</td>\n",
       "      <td>0</td>\n",
       "      <td>0</td>\n",
       "      <td>0</td>\n",
       "      <td>1</td>\n",
       "      <td>0</td>\n",
       "      <td>0</td>\n",
       "      <td>0</td>\n",
       "      <td>0</td>\n",
       "      <td>18</td>\n",
       "    </tr>\n",
       "    <tr>\n",
       "      <th>2</th>\n",
       "      <td>0</td>\n",
       "      <td>1</td>\n",
       "      <td>0</td>\n",
       "      <td>0</td>\n",
       "      <td>0</td>\n",
       "      <td>0</td>\n",
       "      <td>0</td>\n",
       "      <td>0</td>\n",
       "      <td>0</td>\n",
       "      <td>0</td>\n",
       "      <td>...</td>\n",
       "      <td>0</td>\n",
       "      <td>1</td>\n",
       "      <td>0</td>\n",
       "      <td>0</td>\n",
       "      <td>1</td>\n",
       "      <td>0</td>\n",
       "      <td>0</td>\n",
       "      <td>0</td>\n",
       "      <td>0</td>\n",
       "      <td>13</td>\n",
       "    </tr>\n",
       "    <tr>\n",
       "      <th>3</th>\n",
       "      <td>0</td>\n",
       "      <td>0</td>\n",
       "      <td>1</td>\n",
       "      <td>0</td>\n",
       "      <td>0</td>\n",
       "      <td>0</td>\n",
       "      <td>0</td>\n",
       "      <td>0</td>\n",
       "      <td>0</td>\n",
       "      <td>0</td>\n",
       "      <td>...</td>\n",
       "      <td>0</td>\n",
       "      <td>0</td>\n",
       "      <td>0</td>\n",
       "      <td>1</td>\n",
       "      <td>0</td>\n",
       "      <td>0</td>\n",
       "      <td>0</td>\n",
       "      <td>0</td>\n",
       "      <td>0</td>\n",
       "      <td>10</td>\n",
       "    </tr>\n",
       "    <tr>\n",
       "      <th>4</th>\n",
       "      <td>0</td>\n",
       "      <td>0</td>\n",
       "      <td>0</td>\n",
       "      <td>0</td>\n",
       "      <td>0</td>\n",
       "      <td>0</td>\n",
       "      <td>0</td>\n",
       "      <td>0</td>\n",
       "      <td>1</td>\n",
       "      <td>0</td>\n",
       "      <td>...</td>\n",
       "      <td>0</td>\n",
       "      <td>0</td>\n",
       "      <td>0</td>\n",
       "      <td>0</td>\n",
       "      <td>0</td>\n",
       "      <td>0</td>\n",
       "      <td>0</td>\n",
       "      <td>1</td>\n",
       "      <td>0</td>\n",
       "      <td>16</td>\n",
       "    </tr>\n",
       "  </tbody>\n",
       "</table>\n",
       "<p>5 rows × 30 columns</p>\n",
       "</div>"
      ],
      "text/plain": [
       "   0  1  2  3  4  5  6  7  8  9  ...   2  3  0  1  2  3  4  5  6  hour\n",
       "0  0  0  1  0  0  0  0  0  0  0  ...   0  1  0  0  0  0  0  1  0    10\n",
       "1  0  0  0  0  0  0  0  0  1  0  ...   0  0  0  0  1  0  0  0  0    18\n",
       "2  0  1  0  0  0  0  0  0  0  0  ...   0  1  0  0  1  0  0  0  0    13\n",
       "3  0  0  1  0  0  0  0  0  0  0  ...   0  0  0  1  0  0  0  0  0    10\n",
       "4  0  0  0  0  0  0  0  0  1  0  ...   0  0  0  0  0  0  0  1  0    16\n",
       "\n",
       "[5 rows x 30 columns]"
      ]
     },
     "execution_count": 18,
     "metadata": {},
     "output_type": "execute_result"
    }
   ],
   "source": [
    "Y = train['click']\n",
    "data = pd.concat([browserid, countrycode,\n",
    "                  devid, weekday, train[['hour']]], axis=1)\n",
    "del train               \n",
    "del browserid\n",
    "del countrycode\n",
    "del devid\n",
    "del weekday\n",
    "data.head()"
   ]
  },
  {
   "cell_type": "code",
   "execution_count": 19,
   "metadata": {
    "collapsed": true
   },
   "outputs": [],
   "source": [
    "X_train = data.iloc[0:12137810]\n",
    "X_test = data.iloc[12137810:]\n",
    "del data"
   ]
  },
  {
   "cell_type": "code",
   "execution_count": 20,
   "metadata": {},
   "outputs": [
    {
     "name": "stdout",
     "output_type": "stream",
     "text": [
      "(12137810, 30) (3706907, 30)\n",
      "(12137810,) (3706907,)\n"
     ]
    }
   ],
   "source": [
    "print(X_train.shape, X_test.shape)\n",
    "Y_train, Y_test = Y[0:12137810], Y[12137810:]\n",
    "del Y\n",
    "print(Y_train.shape, Y_test.shape)"
   ]
  },
  {
   "cell_type": "code",
   "execution_count": 21,
   "metadata": {
    "collapsed": true,
    "scrolled": true
   },
   "outputs": [],
   "source": [
    "## Split into train and val set\n",
    "#from sklearn.model_selection import train_test_split\n",
    "#X_train, X_val, Y_train, Y_val = train_test_split(X_train, Y_train, test_size=0.20, random_state=42)\n",
    "t_len = len(Y_train)*0.80\n",
    "X_train, X_val = X_train.loc[:t_len,:], X_train.loc[t_len:,:]"
   ]
  },
  {
   "cell_type": "code",
   "execution_count": 22,
   "metadata": {
    "collapsed": true
   },
   "outputs": [],
   "source": [
    "Y_train, Y_val = Y_train.loc[:t_len], Y_train.loc[t_len:]"
   ]
  },
  {
   "cell_type": "code",
   "execution_count": 23,
   "metadata": {
    "collapsed": true
   },
   "outputs": [],
   "source": [
    "#X_train.to_pickle('x_train_02')\n",
    "#X_test.to_pickle('x_test_02')\n",
    "#Y_train.to_pickle('Y_train_02')\n",
    "#Y_test.to_pickle('Y_test_02')\n",
    "X_train.columns = [i for i in range(X_train.shape[1])]\n",
    "X_val.columns = [i for i in range(X_val.shape[1])]\n",
    "X_test.columns = [i for i in range(X_test.shape[1])]"
   ]
  },
  {
   "cell_type": "code",
   "execution_count": 24,
   "metadata": {
    "collapsed": true
   },
   "outputs": [],
   "source": [
    "#import xgboost as xgb\n",
    "#clf = xgb.XGBClassifier(base_score=0.5, colsample_bylevel=1, colsample_bytree=1,\n",
    "#       gamma=0, learning_rate=0.05, max_delta_step=0, max_depth=10,\n",
    "#       min_child_weight=1, missing=None, n_estimators=100, nthread=-1,\n",
    "#       objective='binary:logistic', reg_alpha=0, reg_lambda=1,\n",
    "#       scale_pos_weight=1, seed=2017, silent=False, subsample=1)\n",
    "\n",
    "#from sklearn.ensemble import RandomForestClassifier\n",
    "#clf = RandomForestClassifier(n_jobs=2)\n",
    "import lightgbm as clf\n",
    "X_train = clf.Dataset(X_train, Y_train)\n",
    "X_val = clf.Dataset(X_val, Y_val)\n",
    "params = {\n",
    "    \n",
    "    'num_leaves' : 256,\n",
    "    'learning_rate':0.03,\n",
    "    'metric':'auc',\n",
    "    'objective':'binary',\n",
    "    'early_stopping_round': 40,\n",
    "    'max_depth':10,\n",
    "    'bagging_fraction':0.5,\n",
    "    'feature_fraction':0.6,\n",
    "    'bagging_seed':2017,\n",
    "    'feature_fraction_seed':2017,\n",
    "    'verbose' : 1   \n",
    "}"
   ]
  },
  {
   "cell_type": "code",
   "execution_count": 25,
   "metadata": {
    "collapsed": true
   },
   "outputs": [],
   "source": [
    "#import pandas as pd\n",
    "#X_train = pd.read_pickle('x_train')\n",
    "#X_test = read_pickle('x_test')\n",
    "#Y_train = pd.read_pickle('y_train')\n",
    "#y_test = read_pickle('y_test')"
   ]
  },
  {
   "cell_type": "code",
   "execution_count": 28,
   "metadata": {},
   "outputs": [
    {
     "name": "stderr",
     "output_type": "stream",
     "text": [
      "/home/sameer/.virtualenvs/ml/lib/python3.5/site-packages/lightgbm/engine.py:163: UserWarning: Using Pandas (default) integer column names, not column indexes. You can use indexes with DataFrame.values.\n",
      "  booster = Booster(params=params, train_set=train_set)\n",
      "/home/sameer/.virtualenvs/ml/lib/python3.5/site-packages/lightgbm/engine.py:167: UserWarning: Using Pandas (default) integer column names, not column indexes. You can use indexes with DataFrame.values.\n",
      "  booster.add_valid(valid_set, name_valid_set)\n"
     ]
    },
    {
     "name": "stdout",
     "output_type": "stream",
     "text": [
      "[20]\tvalid_0's auc: 0.967518\n",
      "[40]\tvalid_0's auc: 0.968629\n",
      "[60]\tvalid_0's auc: 0.96849\n",
      "[80]\tvalid_0's auc: 0.968648\n",
      "[100]\tvalid_0's auc: 0.968788\n",
      "[120]\tvalid_0's auc: 0.968905\n",
      "[140]\tvalid_0's auc: 0.969087\n",
      "[160]\tvalid_0's auc: 0.9693\n",
      "[180]\tvalid_0's auc: 0.969355\n",
      "[200]\tvalid_0's auc: 0.969446\n",
      "[220]\tvalid_0's auc: 0.96951\n",
      "[240]\tvalid_0's auc: 0.96953\n",
      "[260]\tvalid_0's auc: 0.969578\n",
      "[280]\tvalid_0's auc: 0.969598\n",
      "[300]\tvalid_0's auc: 0.96963\n",
      "[320]\tvalid_0's auc: 0.969651\n",
      "[340]\tvalid_0's auc: 0.969663\n",
      "[360]\tvalid_0's auc: 0.969672\n",
      "[380]\tvalid_0's auc: 0.969674\n",
      "[400]\tvalid_0's auc: 0.969676\n",
      "[420]\tvalid_0's auc: 0.969677\n",
      "[440]\tvalid_0's auc: 0.969677\n",
      "[460]\tvalid_0's auc: 0.969675\n",
      "[480]\tvalid_0's auc: 0.96967\n",
      "[500]\tvalid_0's auc: 0.969666\n"
     ]
    }
   ],
   "source": [
    "clf2 = clf.train(params, X_train,num_boost_round=500,valid_sets=X_val,verbose_eval=20)"
   ]
  },
  {
   "cell_type": "code",
   "execution_count": 29,
   "metadata": {},
   "outputs": [
    {
     "data": {
      "text/plain": [
       "['model_2017-08-06 10:45:37.280043.pkl']"
      ]
     },
     "execution_count": 29,
     "metadata": {},
     "output_type": "execute_result"
    }
   ],
   "source": [
    "time = \"\".join(str(datetime.datetime.now()))\n",
    "joblib.dump(clf2, 'model_'+time+'.pkl')\n"
   ]
  },
  {
   "cell_type": "code",
   "execution_count": 33,
   "metadata": {},
   "outputs": [
    {
     "ename": "TypeError",
     "evalue": "Cannot use Dataset instance for prediction, please use raw data instead",
     "output_type": "error",
     "traceback": [
      "\u001b[0;31m---------------------------------------------------------------------------\u001b[0m",
      "\u001b[0;31mTypeError\u001b[0m                                 Traceback (most recent call last)",
      "\u001b[0;32m<ipython-input-33-f12811e34f10>\u001b[0m in \u001b[0;36m<module>\u001b[0;34m()\u001b[0m\n\u001b[0;32m----> 1\u001b[0;31m \u001b[0mvalidated\u001b[0m \u001b[0;34m=\u001b[0m \u001b[0mclf2\u001b[0m\u001b[0;34m.\u001b[0m\u001b[0mpredict\u001b[0m\u001b[0;34m(\u001b[0m\u001b[0mX_val\u001b[0m\u001b[0;34m)\u001b[0m\u001b[0;34m\u001b[0m\u001b[0m\n\u001b[0m\u001b[1;32m      2\u001b[0m \u001b[0;32mfrom\u001b[0m \u001b[0msklearn\u001b[0m\u001b[0;34m.\u001b[0m\u001b[0mmetrics\u001b[0m \u001b[0;32mimport\u001b[0m \u001b[0mroc_auc_score\u001b[0m\u001b[0;34m\u001b[0m\u001b[0m\n\u001b[1;32m      3\u001b[0m \u001b[0mroc_auc_score\u001b[0m\u001b[0;34m(\u001b[0m\u001b[0mY_val\u001b[0m\u001b[0;34m,\u001b[0m \u001b[0mvalidated\u001b[0m\u001b[0;34m)\u001b[0m\u001b[0;34m\u001b[0m\u001b[0m\n",
      "\u001b[0;32m~/.virtualenvs/ml/lib/python3.5/site-packages/lightgbm/basic.py\u001b[0m in \u001b[0;36mpredict\u001b[0;34m(self, data, num_iteration, raw_score, pred_leaf, data_has_header, is_reshape, pred_parameter)\u001b[0m\n\u001b[1;32m   1614\u001b[0m         \u001b[0;32mif\u001b[0m \u001b[0mnum_iteration\u001b[0m \u001b[0;34m<=\u001b[0m \u001b[0;36m0\u001b[0m\u001b[0;34m:\u001b[0m\u001b[0;34m\u001b[0m\u001b[0m\n\u001b[1;32m   1615\u001b[0m             \u001b[0mnum_iteration\u001b[0m \u001b[0;34m=\u001b[0m \u001b[0mself\u001b[0m\u001b[0;34m.\u001b[0m\u001b[0mbest_iteration\u001b[0m\u001b[0;34m\u001b[0m\u001b[0m\n\u001b[0;32m-> 1616\u001b[0;31m         \u001b[0;32mreturn\u001b[0m \u001b[0mpredictor\u001b[0m\u001b[0;34m.\u001b[0m\u001b[0mpredict\u001b[0m\u001b[0;34m(\u001b[0m\u001b[0mdata\u001b[0m\u001b[0;34m,\u001b[0m \u001b[0mnum_iteration\u001b[0m\u001b[0;34m,\u001b[0m \u001b[0mraw_score\u001b[0m\u001b[0;34m,\u001b[0m \u001b[0mpred_leaf\u001b[0m\u001b[0;34m,\u001b[0m \u001b[0mdata_has_header\u001b[0m\u001b[0;34m,\u001b[0m \u001b[0mis_reshape\u001b[0m\u001b[0;34m)\u001b[0m\u001b[0;34m\u001b[0m\u001b[0m\n\u001b[0m\u001b[1;32m   1617\u001b[0m \u001b[0;34m\u001b[0m\u001b[0m\n\u001b[1;32m   1618\u001b[0m     \u001b[0;32mdef\u001b[0m \u001b[0m_to_predictor\u001b[0m\u001b[0;34m(\u001b[0m\u001b[0mself\u001b[0m\u001b[0;34m,\u001b[0m \u001b[0mpred_parameter\u001b[0m\u001b[0;34m=\u001b[0m\u001b[0;32mNone\u001b[0m\u001b[0;34m)\u001b[0m\u001b[0;34m:\u001b[0m\u001b[0;34m\u001b[0m\u001b[0m\n",
      "\u001b[0;32m~/.virtualenvs/ml/lib/python3.5/site-packages/lightgbm/basic.py\u001b[0m in \u001b[0;36mpredict\u001b[0;34m(self, data, num_iteration, raw_score, pred_leaf, data_has_header, is_reshape)\u001b[0m\n\u001b[1;32m    381\u001b[0m         \"\"\"\n\u001b[1;32m    382\u001b[0m         \u001b[0;32mif\u001b[0m \u001b[0misinstance\u001b[0m\u001b[0;34m(\u001b[0m\u001b[0mdata\u001b[0m\u001b[0;34m,\u001b[0m \u001b[0mDataset\u001b[0m\u001b[0;34m)\u001b[0m\u001b[0;34m:\u001b[0m\u001b[0;34m\u001b[0m\u001b[0m\n\u001b[0;32m--> 383\u001b[0;31m             \u001b[0;32mraise\u001b[0m \u001b[0mTypeError\u001b[0m\u001b[0;34m(\u001b[0m\u001b[0;34m\"Cannot use Dataset instance for prediction, please use raw data instead\"\u001b[0m\u001b[0;34m)\u001b[0m\u001b[0;34m\u001b[0m\u001b[0m\n\u001b[0m\u001b[1;32m    384\u001b[0m         \u001b[0mdata\u001b[0m \u001b[0;34m=\u001b[0m \u001b[0m_data_from_pandas\u001b[0m\u001b[0;34m(\u001b[0m\u001b[0mdata\u001b[0m\u001b[0;34m,\u001b[0m \u001b[0;32mNone\u001b[0m\u001b[0;34m,\u001b[0m \u001b[0;32mNone\u001b[0m\u001b[0;34m,\u001b[0m \u001b[0mself\u001b[0m\u001b[0;34m.\u001b[0m\u001b[0mpandas_categorical\u001b[0m\u001b[0;34m)\u001b[0m\u001b[0;34m[\u001b[0m\u001b[0;36m0\u001b[0m\u001b[0;34m]\u001b[0m\u001b[0;34m\u001b[0m\u001b[0m\n\u001b[1;32m    385\u001b[0m         \u001b[0mpredict_type\u001b[0m \u001b[0;34m=\u001b[0m \u001b[0mC_API_PREDICT_NORMAL\u001b[0m\u001b[0;34m\u001b[0m\u001b[0m\n",
      "\u001b[0;31mTypeError\u001b[0m: Cannot use Dataset instance for prediction, please use raw data instead"
     ]
    }
   ],
   "source": [
    "validated = clf2.predict(X_val)\n",
    "from sklearn.metrics import roc_auc_score\n",
    "roc_auc_score(Y_val, validated)"
   ]
  },
  {
   "cell_type": "code",
   "execution_count": 34,
   "metadata": {},
   "outputs": [
    {
     "name": "stderr",
     "output_type": "stream",
     "text": [
      "/home/sameer/.virtualenvs/ml/lib/python3.5/site-packages/IPython/core/interactiveshell.py:2862: UserWarning: Using Pandas (default) integer column names, not column indexes. You can use indexes with DataFrame.values.\n",
      "  exec(code_obj, self.user_global_ns, self.user_ns)\n"
     ]
    }
   ],
   "source": [
    "predicted = clf2.predict(X_test)\n",
    "#predicted = pd.DataFrame(data=predicted)\n",
    "#predicted[0] = test_id\n",
    "#predicted.columns = [ 'ID', 'click']\n",
    "predicted = pd.DataFrame({'ID':test_id, 'click':predicted})\n",
    "predicted.to_csv(\"predicted\"+time+\".csv\", index=False)"
   ]
  },
  {
   "cell_type": "code",
   "execution_count": 35,
   "metadata": {},
   "outputs": [
    {
     "data": {
      "text/html": [
       "<div>\n",
       "<style>\n",
       "    .dataframe thead tr:only-child th {\n",
       "        text-align: right;\n",
       "    }\n",
       "\n",
       "    .dataframe thead th {\n",
       "        text-align: left;\n",
       "    }\n",
       "\n",
       "    .dataframe tbody tr th {\n",
       "        vertical-align: top;\n",
       "    }\n",
       "</style>\n",
       "<table border=\"1\" class=\"dataframe\">\n",
       "  <thead>\n",
       "    <tr style=\"text-align: right;\">\n",
       "      <th></th>\n",
       "      <th>ID</th>\n",
       "      <th>click</th>\n",
       "    </tr>\n",
       "  </thead>\n",
       "  <tbody>\n",
       "    <tr>\n",
       "      <th>0</th>\n",
       "      <td>IDFDJVI</td>\n",
       "      <td>0.000831</td>\n",
       "    </tr>\n",
       "    <tr>\n",
       "      <th>1</th>\n",
       "      <td>IDNWkTQ</td>\n",
       "      <td>0.000166</td>\n",
       "    </tr>\n",
       "    <tr>\n",
       "      <th>2</th>\n",
       "      <td>ID9pRmM</td>\n",
       "      <td>0.004195</td>\n",
       "    </tr>\n",
       "    <tr>\n",
       "      <th>3</th>\n",
       "      <td>IDHaQaj</td>\n",
       "      <td>0.000164</td>\n",
       "    </tr>\n",
       "    <tr>\n",
       "      <th>4</th>\n",
       "      <td>IDT2CrF</td>\n",
       "      <td>0.001133</td>\n",
       "    </tr>\n",
       "  </tbody>\n",
       "</table>\n",
       "</div>"
      ],
      "text/plain": [
       "        ID     click\n",
       "0  IDFDJVI  0.000831\n",
       "1  IDNWkTQ  0.000166\n",
       "2  ID9pRmM  0.004195\n",
       "3  IDHaQaj  0.000164\n",
       "4  IDT2CrF  0.001133"
      ]
     },
     "execution_count": 35,
     "metadata": {},
     "output_type": "execute_result"
    }
   ],
   "source": [
    "predicted.head()"
   ]
  },
  {
   "cell_type": "code",
   "execution_count": null,
   "metadata": {
    "collapsed": true
   },
   "outputs": [],
   "source": []
  }
 ],
 "metadata": {
  "kernelspec": {
   "display_name": "Python 3",
   "language": "python",
   "name": "python3"
  },
  "language_info": {
   "codemirror_mode": {
    "name": "ipython",
    "version": 3
   },
   "file_extension": ".py",
   "mimetype": "text/x-python",
   "name": "python",
   "nbconvert_exporter": "python",
   "pygments_lexer": "ipython3",
   "version": "3.5.2"
  }
 },
 "nbformat": 4,
 "nbformat_minor": 2
}
